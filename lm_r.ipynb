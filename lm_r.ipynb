{
 "cells": [
  {
   "cell_type": "markdown",
   "id": "176b09bb-ef62-4d3d-895e-f4ae67f93f5d",
   "metadata": {},
   "source": [
    "# Linear Modeling in R"
   ]
  },
  {
   "cell_type": "code",
   "execution_count": 1,
   "id": "5f3a2a91-6561-48fa-a43b-c044c5d55ca2",
   "metadata": {},
   "outputs": [],
   "source": [
    "df = read.csv(\"regrex1.csv\")"
   ]
  },
  {
   "cell_type": "code",
   "execution_count": 3,
   "id": "b8210f50-efb4-4870-a014-60e9e5c82163",
   "metadata": {},
   "outputs": [
    {
     "data": {
      "text/html": [
       "<table class=\"dataframe\">\n",
       "<caption>A data.frame: 6 × 2</caption>\n",
       "<thead>\n",
       "\t<tr><th></th><th scope=col>y</th><th scope=col>x</th></tr>\n",
       "\t<tr><th></th><th scope=col>&lt;dbl&gt;</th><th scope=col>&lt;dbl&gt;</th></tr>\n",
       "</thead>\n",
       "<tbody>\n",
       "\t<tr><th scope=row>1</th><td>6.8102</td><td> 9.8492</td></tr>\n",
       "\t<tr><th scope=row>2</th><td>9.8437</td><td>11.1450</td></tr>\n",
       "\t<tr><th scope=row>3</th><td>4.9767</td><td> 5.1209</td></tr>\n",
       "\t<tr><th scope=row>4</th><td>5.0006</td><td> 8.1085</td></tr>\n",
       "\t<tr><th scope=row>5</th><td>3.5047</td><td> 3.5599</td></tr>\n",
       "\t<tr><th scope=row>6</th><td>3.6419</td><td> 1.9883</td></tr>\n",
       "</tbody>\n",
       "</table>\n"
      ],
      "text/latex": [
       "A data.frame: 6 × 2\n",
       "\\begin{tabular}{r|ll}\n",
       "  & y & x\\\\\n",
       "  & <dbl> & <dbl>\\\\\n",
       "\\hline\n",
       "\t1 & 6.8102 &  9.8492\\\\\n",
       "\t2 & 9.8437 & 11.1450\\\\\n",
       "\t3 & 4.9767 &  5.1209\\\\\n",
       "\t4 & 5.0006 &  8.1085\\\\\n",
       "\t5 & 3.5047 &  3.5599\\\\\n",
       "\t6 & 3.6419 &  1.9883\\\\\n",
       "\\end{tabular}\n"
      ],
      "text/markdown": [
       "\n",
       "A data.frame: 6 × 2\n",
       "\n",
       "| <!--/--> | y &lt;dbl&gt; | x &lt;dbl&gt; |\n",
       "|---|---|---|\n",
       "| 1 | 6.8102 |  9.8492 |\n",
       "| 2 | 9.8437 | 11.1450 |\n",
       "| 3 | 4.9767 |  5.1209 |\n",
       "| 4 | 5.0006 |  8.1085 |\n",
       "| 5 | 3.5047 |  3.5599 |\n",
       "| 6 | 3.6419 |  1.9883 |\n",
       "\n"
      ],
      "text/plain": [
       "  y      x      \n",
       "1 6.8102  9.8492\n",
       "2 9.8437 11.1450\n",
       "3 4.9767  5.1209\n",
       "4 5.0006  8.1085\n",
       "5 3.5047  3.5599\n",
       "6 3.6419  1.9883"
      ]
     },
     "metadata": {},
     "output_type": "display_data"
    }
   ],
   "source": [
    "head(df)"
   ]
  },
  {
   "cell_type": "markdown",
   "id": "bd8e35da-e201-4ec7-93a3-8ece8f6da681",
   "metadata": {},
   "source": [
    "# Plot the data"
   ]
  },
  {
   "cell_type": "code",
   "execution_count": 4,
   "id": "f0e65b27-3f37-42ca-ab23-8174fa61a905",
   "metadata": {},
   "outputs": [
    {
     "data": {
      "image/png": "[encoded data removed]",
      "text/plain": [
       "plot without title"
      ]
     },
     "metadata": {
      "image/png": {
       "height": 420,
       "width": 420
      }
     },
     "output_type": "display_data"
    }
   ],
   "source": [
    "plot(df$x,df$y)"
   ]
  },
  {
   "cell_type": "code",
   "execution_count": 6,
   "id": "df1322b1-de71-4271-8e61-9a4dda6c7fbc",
   "metadata": {},
   "outputs": [],
   "source": [
    "model = lm(y~x, data = df) "
   ]
  },
  {
   "cell_type": "code",
   "execution_count": 9,
   "id": "1a5f21fb-2ffc-4f45-a616-fcc73921b424",
   "metadata": {},
   "outputs": [],
   "source": [
    "summary_stats = summary (model)"
   ]
  },
  {
   "cell_type": "code",
   "execution_count": 10,
   "id": "3a3675d4-7d6f-4dbe-8cdf-43ae60126a07",
   "metadata": {},
   "outputs": [
    {
     "data": {
      "text/plain": [
       "\n",
       "Call:\n",
       "lm(formula = y ~ x, data = df)\n",
       "\n",
       "Residuals:\n",
       "     Min       1Q   Median       3Q      Max \n",
       "-1.66121 -0.53286 -0.02869  0.50436  2.36786 \n",
       "\n",
       "Coefficients:\n",
       "            Estimate Std. Error t value Pr(>|t|)    \n",
       "(Intercept)  2.24814    0.29365   7.656 2.44e-08 ***\n",
       "x            0.46906    0.02444  19.194  < 2e-16 ***\n",
       "---\n",
       "Signif. codes:  0 ‘***’ 0.001 ‘**’ 0.01 ‘*’ 0.05 ‘.’ 0.1 ‘ ’ 1\n",
       "\n",
       "Residual standard error: 0.8779 on 28 degrees of freedom\n",
       "Multiple R-squared:  0.9294,\tAdjusted R-squared:  0.9268 \n",
       "F-statistic: 368.4 on 1 and 28 DF,  p-value: < 2.2e-16\n"
      ]
     },
     "metadata": {},
     "output_type": "display_data"
    }
   ],
   "source": [
    "summary_stats"
   ]
  },
  {
   "cell_type": "code",
   "execution_count": 11,
   "id": "efdf9823-7492-486d-a80a-a7898174a92a",
   "metadata": {},
   "outputs": [
    {
     "data": {
      "text/html": [
       "0.929364155128174"
      ],
      "text/latex": [
       "0.929364155128174"
      ],
      "text/markdown": [
       "0.929364155128174"
      ],
      "text/plain": [
       "[1] 0.9293642"
      ]
     },
     "metadata": {},
     "output_type": "display_data"
    }
   ],
   "source": [
    "summary_stats$r.squared"
   ]
  },
  {
   "cell_type": "code",
   "execution_count": 12,
   "id": "ee9ad0ee-6982-4b92-b0f3-7efe4cad13d5",
   "metadata": {},
   "outputs": [
    {
     "data": {
      "text/html": [
       "<style>\n",
       ".dl-inline {width: auto; margin:0; padding: 0}\n",
       ".dl-inline>dt, .dl-inline>dd {float: none; width: auto; display: inline-block}\n",
       ".dl-inline>dt::after {content: \":\\0020\"; padding-right: .5ex}\n",
       ".dl-inline>dt:not(:first-of-type) {padding-left: .5ex}\n",
       "</style><dl class=dl-inline><dt>(Intercept)</dt><dd>2.24814277366699</dd><dt>x</dt><dd>0.469062282751859</dd></dl>\n"
      ],
      "text/latex": [
       "\\begin{description*}\n",
       "\\item[(Intercept)] 2.24814277366699\n",
       "\\item[x] 0.469062282751859\n",
       "\\end{description*}\n"
      ],
      "text/markdown": [
       "(Intercept)\n",
       ":   2.24814277366699x\n",
       ":   0.469062282751859\n",
       "\n"
      ],
      "text/plain": [
       "(Intercept)           x \n",
       "  2.2481428   0.4690623 "
      ]
     },
     "metadata": {},
     "output_type": "display_data"
    }
   ],
   "source": [
    "coef(model)"
   ]
  },
  {
   "cell_type": "code",
   "execution_count": 13,
   "id": "0b963a77-01bf-45bb-a628-a1724485ceae",
   "metadata": {},
   "outputs": [
    {
     "data": {
      "text/html": [
       "<strong>(Intercept):</strong> 2.24814277366699"
      ],
      "text/latex": [
       "\\textbf{(Intercept):} 2.24814277366699"
      ],
      "text/markdown": [
       "**(Intercept):** 2.24814277366699"
      ],
      "text/plain": [
       "(Intercept) \n",
       "   2.248143 "
      ]
     },
     "metadata": {},
     "output_type": "display_data"
    }
   ],
   "source": [
    "coef(model)[1]"
   ]
  },
  {
   "cell_type": "code",
   "execution_count": 14,
   "id": "3900a854-6f77-4cd4-84f2-7fd30265f7ac",
   "metadata": {},
   "outputs": [
    {
     "data": {
      "text/html": [
       "<strong>x:</strong> 0.469062282751859"
      ],
      "text/latex": [
       "\\textbf{x:} 0.469062282751859"
      ],
      "text/markdown": [
       "**x:** 0.469062282751859"
      ],
      "text/plain": [
       "        x \n",
       "0.4690623 "
      ]
     },
     "metadata": {},
     "output_type": "display_data"
    }
   ],
   "source": [
    "coef(model)[2]"
   ]
  },
  {
   "cell_type": "code",
   "execution_count": 18,
   "id": "88a4d070-daea-414e-8ce3-88ab263f3dd2",
   "metadata": {},
   "outputs": [],
   "source": [
    "y_predict = predict(model, df)"
   ]
  },
  {
   "cell_type": "code",
   "execution_count": 21,
   "id": "c2a42ce9-a004-4a25-b4c4-43e564ab357b",
   "metadata": {},
   "outputs": [
    {
     "data": {
      "image/png": "[encoded data removed]",
      "text/plain": [
       "plot without title"
      ]
     },
     "metadata": {
      "image/png": {
       "height": 420,
       "width": 420
      }
     },
     "output_type": "display_data"
    }
   ],
   "source": [
    "plot(df$x,y_predict)"
   ]
  },
  {
   "cell_type": "code",
   "execution_count": 22,
   "id": "cd1687d3-aaad-4038-b2e8-70eeb6781c3e",
   "metadata": {},
   "outputs": [
    {
     "data": {
      "image/png": "[encoded data removed]",
      "text/plain": [
       "plot without title"
      ]
     },
     "metadata": {
      "image/png": {
       "height": 420,
       "width": 420
      }
     },
     "output_type": "display_data"
    }
   ],
   "source": [
    "plot(df$x,df$y)\n",
    "lines(df$x,y_predict)"
   ]
  },
  {
   "cell_type": "code",
   "execution_count": null,
   "id": "ae5a5c37-0226-4d1d-b53c-3538e7ac6def",
   "metadata": {},
   "outputs": [],
   "source": []
  }
 ],
 "metadata": {
  "kernelspec": {
   "display_name": "conda_R_4_3_2",
   "language": "R",
   "name": "conda_r_4_3_2"
  },
  "language_info": {
   "codemirror_mode": "r",
   "file_extension": ".r",
   "mimetype": "text/x-r-source",
   "name": "R",
   "pygments_lexer": "r",
   "version": "4.3.2"
  }
 },
 "nbformat": 4,
 "nbformat_minor": 5
}
