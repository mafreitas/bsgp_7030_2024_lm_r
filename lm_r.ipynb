{
 "cells": [
  {
   "cell_type": "markdown",
   "id": "176b09bb-ef62-4d3d-895e-f4ae67f93f5d",
   "metadata": {},
   "source": [
    "# Linear Modeling in R"
   ]
  },
  {
   "cell_type": "code",
   "execution_count": null,
   "id": "5f3a2a91-6561-48fa-a43b-c044c5d55ca2",
   "metadata": {},
   "outputs": [],
   "source": []
  }
 ],
 "metadata": {
  "kernelspec": {
   "display_name": "conda_R_4_3_2",
   "language": "R",
   "name": "conda_r_4_3_2"
  },
  "language_info": {
   "codemirror_mode": "r",
   "file_extension": ".r",
   "mimetype": "text/x-r-source",
   "name": "R",
   "pygments_lexer": "r",
   "version": "4.3.2"
  }
 },
 "nbformat": 4,
 "nbformat_minor": 5
}
